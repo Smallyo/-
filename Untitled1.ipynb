{
  "nbformat": 4,
  "nbformat_minor": 0,
  "metadata": {
    "colab": {
      "name": "Untitled1.ipynb",
      "provenance": [],
      "toc_visible": true,
      "authorship_tag": "ABX9TyMW3df3K5dnPjtl4Wg2V/tE",
      "include_colab_link": true
    },
    "kernelspec": {
      "name": "python3",
      "display_name": "Python 3"
    },
    "language_info": {
      "name": "python"
    }
  },
  "cells": [
    {
      "cell_type": "markdown",
      "metadata": {
        "id": "view-in-github",
        "colab_type": "text"
      },
      "source": [
        "<a href=\"https://colab.research.google.com/github/Smallyo/-/blob/master/Untitled1.ipynb\" target=\"_parent\"><img src=\"https://colab.research.google.com/assets/colab-badge.svg\" alt=\"Open In Colab\"/></a>"
      ]
    },
    {
      "cell_type": "code",
      "source": [
        "import tensorflow as tf"
      ],
      "metadata": {
        "id": "cgvEYAb_cZ4O"
      },
      "execution_count": 3,
      "outputs": []
    },
    {
      "cell_type": "code",
      "source": [
        "# Load MNIST dataset from tensorflow\n",
        "mnist = tf.keras.datasets.mnist\n",
        "(X_train, y_train),(X_test, y_test) = mnist.load_data()\n",
        "del mnist"
      ],
      "metadata": {
        "id": "zzj0X7g-c_vw"
      },
      "execution_count": 30,
      "outputs": []
    },
    {
      "cell_type": "code",
      "source": [
        "import os\n",
        "import pathlib\n",
        "\n",
        "import numpy as np\n",
        "import pandas as pd \n",
        "import tensorflow as tf\n",
        "\n",
        "import matplotlib\n",
        "import matplotlib.pyplot as plt\n",
        "%matplotlib inline"
      ],
      "metadata": {
        "id": "mTOR6b1ChACV"
      },
      "execution_count": 43,
      "outputs": []
    },
    {
      "cell_type": "code",
      "source": [
        "print(\"numpy :\", np.__version__)\n",
        "print(\"pandas :\", pd.__version__)\n",
        "print(\"tensorflow :\", tf.__version__)\n",
        "print(\"matplotlib :\", matplotlib.__version__)"
      ],
      "metadata": {
        "colab": {
          "base_uri": "https://localhost:8080/"
        },
        "id": "gCl1cYF8hGj2",
        "outputId": "a23220ff-38d5-4508-b307-06f27db332f6"
      },
      "execution_count": 44,
      "outputs": [
        {
          "output_type": "stream",
          "name": "stdout",
          "text": [
            "numpy : 1.21.6\n",
            "pandas : 1.3.5\n",
            "tensorflow : 2.8.2\n",
            "matplotlib : 3.2.2\n"
          ]
        }
      ]
    },
    {
      "cell_type": "code",
      "source": [
        "CSV_FILE_PATH = \"trainlog.csv\"\n",
        "if not os.path.exists(CSV_FILE_PATH): \n",
        "    pathlib.Path(CSV_FILE_PATH).touch()"
      ],
      "metadata": {
        "id": "GEPDdGKVhI1t"
      },
      "execution_count": 45,
      "outputs": []
    },
    {
      "cell_type": "code",
      "source": [
        "print(\"X_train : \", X_train.shape)\n",
        "print(\"y_train : \", y_train.shape)\n",
        "print(\"X_test : \", X_test.shape)\n",
        "print(\"y_test : \", y_test.shape)"
      ],
      "metadata": {
        "colab": {
          "base_uri": "https://localhost:8080/"
        },
        "id": "cQ5MQBUde2kO",
        "outputId": "6ab18af8-e4be-43da-e020-37643ea98f6f"
      },
      "execution_count": 39,
      "outputs": [
        {
          "output_type": "stream",
          "name": "stdout",
          "text": [
            "X_train :  (60000, 28, 28)\n",
            "y_train :  (60000,)\n",
            "X_test :  (10000, 28, 28)\n",
            "y_test :  (10000,)\n"
          ]
        }
      ]
    },
    {
      "cell_type": "code",
      "source": [
        "for i in [1,10,100]:\n",
        "    print(\"y_train\", \"(i=\"+str(i)+\"): \", y_train[i])\n",
        "    print(\"X_train\", \"(i=\"+str(i)+\"): \")\n",
        "    plt.imshow(X_train[i], cmap='gray')\n",
        "    plt.show()"
      ],
      "metadata": {
        "colab": {
          "base_uri": "https://localhost:8080/",
          "height": 870
        },
        "id": "BxtH8RWof91V",
        "outputId": "b5ec6311-b923-4ae2-f1f6-aea9e02c99c8"
      },
      "execution_count": 46,
      "outputs": [
        {
          "output_type": "stream",
          "name": "stdout",
          "text": [
            "y_train (i=1):  0\n",
            "X_train (i=1): \n"
          ]
        },
        {
          "output_type": "display_data",
          "data": {
            "text/plain": [
              "<Figure size 432x288 with 1 Axes>"
            ],
            "image/png": "[encoded data removed]"
          },
          "metadata": {
            "needs_background": "light"
          }
        },
        {
          "output_type": "stream",
          "name": "stdout",
          "text": [
            "y_train (i=10):  3\n",
            "X_train (i=10): \n"
          ]
        },
        {
          "output_type": "display_data",
          "data": {
            "text/plain": [
              "<Figure size 432x288 with 1 Axes>"
            ],
            "image/png": "[encoded data removed]"
          },
          "metadata": {
            "needs_background": "light"
          }
        },
        {
          "output_type": "stream",
          "name": "stdout",
          "text": [
            "y_train (i=100):  5\n",
            "X_train (i=100): \n"
          ]
        },
        {
          "output_type": "display_data",
          "data": {
            "text/plain": [
              "<Figure size 432x288 with 1 Axes>"
            ],
            "image/png": "[encoded data removed]"
          },
          "metadata": {
            "needs_background": "light"
          }
        }
      ]
    },
    {
      "cell_type": "code",
      "source": [
        "# Load MNIST dataset from tensorflow\n",
        "mnist = tf.keras.datasets.mnist\n",
        "(X_train, y_train),(X_test, y_test) = mnist.load_data()\n",
        "del mnist"
      ],
      "metadata": {
        "id": "KwdVw876hNpN"
      },
      "execution_count": 47,
      "outputs": []
    },
    {
      "cell_type": "code",
      "source": [
        "print(\"X_train : \", X_train.shape)\n",
        "print(\"y_train : \", y_train.shape)\n",
        "print(\"X_test : \", X_test.shape)\n",
        "print(\"y_test : \", y_test.shape)"
      ],
      "metadata": {
        "colab": {
          "base_uri": "https://localhost:8080/"
        },
        "id": "e5fk_rIRhQFj",
        "outputId": "90513114-0215-4962-96ce-cff17277e141"
      },
      "execution_count": 48,
      "outputs": [
        {
          "output_type": "stream",
          "name": "stdout",
          "text": [
            "X_train :  (60000, 28, 28)\n",
            "y_train :  (60000,)\n",
            "X_test :  (10000, 28, 28)\n",
            "y_test :  (10000,)\n"
          ]
        }
      ]
    },
    {
      "cell_type": "code",
      "source": [
        "for i in [1,10,100]:\n",
        "    print(\"y_train\", \"(i=\"+str(i)+\"): \", y_train[i])\n",
        "    print(\"X_train\", \"(i=\"+str(i)+\"): \")    \n",
        "    plt.imshow(X_train[i], cmap='gray')\n",
        "    plt.show()"
      ],
      "metadata": {
        "colab": {
          "base_uri": "https://localhost:8080/",
          "height": 870
        },
        "id": "ZMC6yOmChT0i",
        "outputId": "f8a3013e-bb21-4707-bf75-d7ecfc4505a1"
      },
      "execution_count": 49,
      "outputs": [
        {
          "output_type": "stream",
          "name": "stdout",
          "text": [
            "y_train (i=1):  0\n",
            "X_train (i=1): \n"
          ]
        },
        {
          "output_type": "display_data",
          "data": {
            "text/plain": [
              "<Figure size 432x288 with 1 Axes>"
            ],
            "image/png": "[encoded data removed]"
          },
          "metadata": {
            "needs_background": "light"
          }
        },
        {
          "output_type": "stream",
          "name": "stdout",
          "text": [
            "y_train (i=10):  3\n",
            "X_train (i=10): \n"
          ]
        },
        {
          "output_type": "display_data",
          "data": {
            "text/plain": [
              "<Figure size 432x288 with 1 Axes>"
            ],
            "image/png": "[encoded data removed]"
          },
          "metadata": {
            "needs_background": "light"
          }
        },
        {
          "output_type": "stream",
          "name": "stdout",
          "text": [
            "y_train (i=100):  5\n",
            "X_train (i=100): \n"
          ]
        },
        {
          "output_type": "display_data",
          "data": {
            "text/plain": [
              "<Figure size 432x288 with 1 Axes>"
            ],
            "image/png": "[encoded data removed]"
          },
          "metadata": {
            "needs_background": "light"
          }
        }
      ]
    },
    {
      "cell_type": "code",
      "source": [
        "print(\"X_train min\", X_train.min())\n",
        "print(\"X_train max\", X_train.max())"
      ],
      "metadata": {
        "colab": {
          "base_uri": "https://localhost:8080/"
        },
        "id": "3ss6jakchXtf",
        "outputId": "f8c4b346-3b92-4469-d70f-2a66673cb0fb"
      },
      "execution_count": 50,
      "outputs": [
        {
          "output_type": "stream",
          "name": "stdout",
          "text": [
            "X_train min 0\n",
            "X_train max 255\n"
          ]
        }
      ]
    },
    {
      "cell_type": "code",
      "source": [
        "# Min-Max Normalization\n",
        "X_train, X_test = X_train/255.0, X_test/255.0"
      ],
      "metadata": {
        "id": "JJJ9g3XDhZfq"
      },
      "execution_count": 51,
      "outputs": []
    },
    {
      "cell_type": "code",
      "source": [
        "print(\"X_train min\", X_train.min())\n",
        "print(\"X_train max\", X_train.max())"
      ],
      "metadata": {
        "colab": {
          "base_uri": "https://localhost:8080/"
        },
        "id": "FIrfz5UrhZm0",
        "outputId": "d450b61d-dd9e-4f3d-d854-0c110683ce56"
      },
      "execution_count": 52,
      "outputs": [
        {
          "output_type": "stream",
          "name": "stdout",
          "text": [
            "X_train min 0.0\n",
            "X_train max 1.0\n"
          ]
        }
      ]
    },
    {
      "cell_type": "code",
      "source": [
        "# モデル\n",
        "model = tf.keras.models.Sequential([\n",
        "    # (None, 28, 28) -> (None, 784)\n",
        "    tf.keras.layers.Flatten(input_shape=(28, 28), name='input'),\n",
        "    \n",
        "    # Layer1: Linear mapping: (None, 784) -> (None, 512)\n",
        "    tf.keras.layers.Dense(512, name='fc_1'),\n",
        "    # Activation function: ReLU\n",
        "    tf.keras.layers.Activation(tf.nn.relu, name='relu_1'),\n",
        "    \n",
        "    # Layer2: Linear mapping: (None, 512) -> (None, 256)\n",
        "    tf.keras.layers.Dense(256, name='fc_2'),\n",
        "    # Activation function: ReLU\n",
        "    tf.keras.layers.Activation(tf.nn.relu, name='relu_2'),\n",
        "    \n",
        "    # Layer3: Linear mapping: (None, 256) -> (None, 256)\n",
        "    tf.keras.layers.Dense(256, name='fc_3'),\n",
        "    # Activation function: ReLU\n",
        "    tf.keras.layers.Activation(tf.nn.relu, name='relu_3'),\n",
        "    \n",
        "    # Layer4: Linear mapping: (None, 256) -> (None, 10)\n",
        "    tf.keras.layers.Dense(10, name='dense_3'),\n",
        "    # Activation function: Softmax\n",
        "    tf.keras.layers.Activation(tf.nn.softmax, name='softmax')\n",
        "])"
      ],
      "metadata": {
        "id": "QcxVB4WlheWU"
      },
      "execution_count": 53,
      "outputs": []
    },
    {
      "cell_type": "code",
      "source": [
        "# View model architecture\n",
        "model.summary()"
      ],
      "metadata": {
        "colab": {
          "base_uri": "https://localhost:8080/"
        },
        "id": "9Tedc78WhedY",
        "outputId": "0844680f-8d61-4925-83a7-37a1ad9c698d"
      },
      "execution_count": 54,
      "outputs": [
        {
          "output_type": "stream",
          "name": "stdout",
          "text": [
            "Model: \"sequential_7\"\n",
            "_________________________________________________________________\n",
            " Layer (type)                Output Shape              Param #   \n",
            "=================================================================\n",
            " input (Flatten)             (None, 784)               0         \n",
            "                                                                 \n",
            " fc_1 (Dense)                (None, 512)               401920    \n",
            "                                                                 \n",
            " relu_1 (Activation)         (None, 512)               0         \n",
            "                                                                 \n",
            " fc_2 (Dense)                (None, 256)               131328    \n",
            "                                                                 \n",
            " relu_2 (Activation)         (None, 256)               0         \n",
            "                                                                 \n",
            " fc_3 (Dense)                (None, 256)               65792     \n",
            "                                                                 \n",
            " relu_3 (Activation)         (None, 256)               0         \n",
            "                                                                 \n",
            " dense_3 (Dense)             (None, 10)                2570      \n",
            "                                                                 \n",
            " softmax (Activation)        (None, 10)                0         \n",
            "                                                                 \n",
            "=================================================================\n",
            "Total params: 601,610\n",
            "Trainable params: 601,610\n",
            "Non-trainable params: 0\n",
            "_________________________________________________________________\n"
          ]
        }
      ]
    }
  ]
}